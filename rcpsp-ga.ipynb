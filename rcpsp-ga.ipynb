{
 "cells": [
  {
   "cell_type": "code",
   "execution_count": 7,
   "metadata": {},
   "outputs": [
    {
     "name": "stdout",
     "output_type": "stream",
     "text": [
      "   renewable  nonrenewable  doubly_constrained\n",
      "0          4             0                   0\n"
     ]
    }
   ],
   "source": [
    "#Importing read-sm-files.py\n",
    "import ReadSMFIles\n",
    "\n",
    "#reading j30.sm/j301_1.sm file\n",
    "sm_file = ReadSMFIles.SMFileParser.parse_sm_file(\"j30.sm/j301_1.sm\")\n",
    "\n",
    "print(sm_file[1])\n"
   ]
  },
  {
   "cell_type": "markdown",
   "metadata": {},
   "source": [
    "\n",
    "Modelagem\n"
   ]
  },
  {
   "cell_type": "code",
   "execution_count": null,
   "metadata": {},
   "outputs": [],
   "source": [
    "#Dados\n",
    "n = 0 #numero de trabalhos\n",
    "m = 0 #número de tipos de recursos\n",
    "\n"
   ]
  },
  {
   "cell_type": "code",
   "execution_count": 4,
   "metadata": {},
   "outputs": [
    {
     "name": "stdout",
     "output_type": "stream",
     "text": [
      "Dummy Source [0, 0]\n",
      "D2 [0, 4]\n",
      "D4 [4, 6]\n",
      "D6 [6, 10]\n",
      "D1 [6, 9]\n",
      "D3 [10, 12]\n",
      "D5 [12, 13]\n",
      "D7 [9, 10]\n",
      "Dummy Sink [13, 13]\n",
      "Schedule 5 Makespan: 13\n"
     ]
    }
   ],
   "source": [
    "from Schedule import Schedule\n",
    "from Task import Task\n",
    "from Resource import Resource\n",
    "\n",
    "\n",
    "def print_time_windows_es_ef(schedule: Schedule):\n",
    "    for task in schedule.tasks:\n",
    "        print(task.name, [task.earliest_start, task.earliest_finish])\n",
    "\n",
    "schedule5 = Schedule()\n",
    "\n",
    "d1 = Task(\"D1\", duration=3)\n",
    "d2 = Task(\"D2\", duration=4)\n",
    "d3 = Task(\"D3\", duration=2)\n",
    "d4 = Task(\"D4\", duration=2)\n",
    "d5 = Task(\"D5\", duration=1)\n",
    "d6 = Task(\"D6\", duration=4)\n",
    "d7 = Task(\"D7\", duration=1)\n",
    "\n",
    "d3.add_predecessors([d1])\n",
    "d4.add_predecessors([d2])\n",
    "d5.add_predecessors([d3])\n",
    "d6.add_predecessors([d4])\n",
    "d7.add_predecessors([d1])\n",
    "\n",
    "r1 = Resource(\"R1\", 4)\n",
    "\n",
    "d1.add_renewable_resource(r1, 2)\n",
    "d2.add_renewable_resource(r1, 3)\n",
    "d3.add_renewable_resource(r1, 4)\n",
    "d4.add_renewable_resource(r1, 4)\n",
    "d5.add_renewable_resource(r1, 3)\n",
    "d6.add_renewable_resource(r1, 2)\n",
    "d7.add_renewable_resource(r1, 2)\n",
    "\n",
    "schedule5.add_renewable_resource(r1)\n",
    "\n",
    "schedule5.add_tasks([d2, d4, d6, d1, d3, d5, d7])\n",
    "\n",
    "makespan = schedule5.makespan()\n",
    "\n",
    "print_time_windows_es_ef(schedule5)\n",
    "print('Schedule 5 Makespan:', makespan)\n",
    "\n",
    "# def print_task_resources(schedule: Schedule):\n",
    "#     for task in schedule.tasks:\n",
    "#         print(task.name, [resource.name for resource in task.renewable_resources], [task.renewable_resources[resource] for resource in task.renewable_resources])\n",
    "\n",
    "# print_task_resources(schedule5)"
   ]
  }
 ],
 "metadata": {
  "kernelspec": {
   "display_name": "Python 3",
   "language": "python",
   "name": "python3"
  },
  "language_info": {
   "codemirror_mode": {
    "name": "ipython",
    "version": 3
   },
   "file_extension": ".py",
   "mimetype": "text/x-python",
   "name": "python",
   "nbconvert_exporter": "python",
   "pygments_lexer": "ipython3",
   "version": "3.11.9"
  }
 },
 "nbformat": 4,
 "nbformat_minor": 2
}
