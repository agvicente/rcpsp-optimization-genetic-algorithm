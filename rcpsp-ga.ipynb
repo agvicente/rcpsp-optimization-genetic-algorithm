{
 "cells": [
  {
   "cell_type": "code",
   "execution_count": 54,
   "metadata": {},
   "outputs": [
    {
     "name": "stdout",
     "output_type": "stream",
     "text": [
      "0      [0, 0, 0, 0]\n",
      "1      [4, 0, 0, 0]\n",
      "2     [10, 0, 0, 0]\n",
      "3      [0, 0, 0, 3]\n",
      "4      [3, 0, 0, 0]\n",
      "5      [0, 0, 0, 8]\n",
      "6      [4, 0, 0, 0]\n",
      "7      [0, 1, 0, 0]\n",
      "8      [6, 0, 0, 0]\n",
      "9      [0, 0, 0, 1]\n",
      "10     [0, 5, 0, 0]\n",
      "11     [0, 7, 0, 0]\n",
      "12     [4, 0, 0, 0]\n",
      "13     [0, 8, 0, 0]\n",
      "14     [3, 0, 0, 0]\n",
      "15     [0, 0, 0, 5]\n",
      "16     [0, 0, 0, 8]\n",
      "17     [0, 0, 0, 7]\n",
      "18     [0, 1, 0, 0]\n",
      "19    [0, 10, 0, 0]\n",
      "20     [0, 0, 0, 6]\n",
      "21     [2, 0, 0, 0]\n",
      "22     [3, 0, 0, 0]\n",
      "23     [0, 9, 0, 0]\n",
      "24     [4, 0, 0, 0]\n",
      "25     [0, 0, 4, 0]\n",
      "26     [0, 0, 0, 7]\n",
      "27     [0, 8, 0, 0]\n",
      "28     [0, 7, 0, 0]\n",
      "29     [0, 7, 0, 0]\n",
      "30     [0, 0, 2, 0]\n",
      "31     [0, 0, 0, 0]\n",
      "Name: resources, dtype: object\n"
     ]
    }
   ],
   "source": [
    "#Importing read-sm-files.py\n",
    "import ReadSMFIles\n",
    "from Resource import Resource\n",
    "from Task import Task\n",
    "\n",
    "#reading j30.sm/j301_1.sm file\n",
    "sm_file = ReadSMFIles.SMFileParser.parse_sm_file(\"j30.sm/j301_1.sm\")\n",
    "\n",
    "print(sm_file[3].resources)\n"
   ]
  },
  {
   "cell_type": "code",
   "execution_count": 55,
   "metadata": {},
   "outputs": [],
   "source": [
    "#Creating resources\n",
    "r1 = int(sm_file[4].R1[0])\n",
    "r2 = int(sm_file[4].R2[0])\n",
    "r3 = int(sm_file[4].R3[0])\n",
    "r4 = int(sm_file[4].R4[0])\n",
    "\n",
    "R1 = Resource('R1', r1)\n",
    "R2 = Resource('R2', r2)\n",
    "R3 = Resource('R3', r3)\n",
    "R4 = Resource('R4', r4)\n",
    "\n",
    "resources = [R1, R2, R3, R4]\n"
   ]
  },
  {
   "cell_type": "code",
   "execution_count": 56,
   "metadata": {},
   "outputs": [
    {
     "name": "stdout",
     "output_type": "stream",
     "text": [
      "{<Resource.Resource object at 0x7f0bff91c220>: 0, <Resource.Resource object at 0x7f0bff91d420>: 0, <Resource.Resource object at 0x7f0bffa7ead0>: 0, <Resource.Resource object at 0x7f0bffa7f400>: 0}\n",
      "{<Resource.Resource object at 0x7f0bff91c220>: 4, <Resource.Resource object at 0x7f0bff91d420>: 0, <Resource.Resource object at 0x7f0bffa7ead0>: 0, <Resource.Resource object at 0x7f0bffa7f400>: 0}\n",
      "{<Resource.Resource object at 0x7f0bff91c220>: 10, <Resource.Resource object at 0x7f0bff91d420>: 0, <Resource.Resource object at 0x7f0bffa7ead0>: 0, <Resource.Resource object at 0x7f0bffa7f400>: 0}\n",
      "{<Resource.Resource object at 0x7f0bff91c220>: 0, <Resource.Resource object at 0x7f0bff91d420>: 0, <Resource.Resource object at 0x7f0bffa7ead0>: 0, <Resource.Resource object at 0x7f0bffa7f400>: 3}\n",
      "{<Resource.Resource object at 0x7f0bff91c220>: 3, <Resource.Resource object at 0x7f0bff91d420>: 0, <Resource.Resource object at 0x7f0bffa7ead0>: 0, <Resource.Resource object at 0x7f0bffa7f400>: 0}\n",
      "{<Resource.Resource object at 0x7f0bff91c220>: 0, <Resource.Resource object at 0x7f0bff91d420>: 0, <Resource.Resource object at 0x7f0bffa7ead0>: 0, <Resource.Resource object at 0x7f0bffa7f400>: 8}\n",
      "{<Resource.Resource object at 0x7f0bff91c220>: 4, <Resource.Resource object at 0x7f0bff91d420>: 0, <Resource.Resource object at 0x7f0bffa7ead0>: 0, <Resource.Resource object at 0x7f0bffa7f400>: 0}\n",
      "{<Resource.Resource object at 0x7f0bff91c220>: 0, <Resource.Resource object at 0x7f0bff91d420>: 1, <Resource.Resource object at 0x7f0bffa7ead0>: 0, <Resource.Resource object at 0x7f0bffa7f400>: 0}\n",
      "{<Resource.Resource object at 0x7f0bff91c220>: 6, <Resource.Resource object at 0x7f0bff91d420>: 0, <Resource.Resource object at 0x7f0bffa7ead0>: 0, <Resource.Resource object at 0x7f0bffa7f400>: 0}\n",
      "{<Resource.Resource object at 0x7f0bff91c220>: 0, <Resource.Resource object at 0x7f0bff91d420>: 0, <Resource.Resource object at 0x7f0bffa7ead0>: 0, <Resource.Resource object at 0x7f0bffa7f400>: 1}\n",
      "{<Resource.Resource object at 0x7f0bff91c220>: 0, <Resource.Resource object at 0x7f0bff91d420>: 5, <Resource.Resource object at 0x7f0bffa7ead0>: 0, <Resource.Resource object at 0x7f0bffa7f400>: 0}\n",
      "{<Resource.Resource object at 0x7f0bff91c220>: 0, <Resource.Resource object at 0x7f0bff91d420>: 7, <Resource.Resource object at 0x7f0bffa7ead0>: 0, <Resource.Resource object at 0x7f0bffa7f400>: 0}\n",
      "{<Resource.Resource object at 0x7f0bff91c220>: 4, <Resource.Resource object at 0x7f0bff91d420>: 0, <Resource.Resource object at 0x7f0bffa7ead0>: 0, <Resource.Resource object at 0x7f0bffa7f400>: 0}\n",
      "{<Resource.Resource object at 0x7f0bff91c220>: 0, <Resource.Resource object at 0x7f0bff91d420>: 8, <Resource.Resource object at 0x7f0bffa7ead0>: 0, <Resource.Resource object at 0x7f0bffa7f400>: 0}\n",
      "{<Resource.Resource object at 0x7f0bff91c220>: 3, <Resource.Resource object at 0x7f0bff91d420>: 0, <Resource.Resource object at 0x7f0bffa7ead0>: 0, <Resource.Resource object at 0x7f0bffa7f400>: 0}\n",
      "{<Resource.Resource object at 0x7f0bff91c220>: 0, <Resource.Resource object at 0x7f0bff91d420>: 0, <Resource.Resource object at 0x7f0bffa7ead0>: 0, <Resource.Resource object at 0x7f0bffa7f400>: 5}\n",
      "{<Resource.Resource object at 0x7f0bff91c220>: 0, <Resource.Resource object at 0x7f0bff91d420>: 0, <Resource.Resource object at 0x7f0bffa7ead0>: 0, <Resource.Resource object at 0x7f0bffa7f400>: 8}\n",
      "{<Resource.Resource object at 0x7f0bff91c220>: 0, <Resource.Resource object at 0x7f0bff91d420>: 0, <Resource.Resource object at 0x7f0bffa7ead0>: 0, <Resource.Resource object at 0x7f0bffa7f400>: 7}\n",
      "{<Resource.Resource object at 0x7f0bff91c220>: 0, <Resource.Resource object at 0x7f0bff91d420>: 1, <Resource.Resource object at 0x7f0bffa7ead0>: 0, <Resource.Resource object at 0x7f0bffa7f400>: 0}\n",
      "{<Resource.Resource object at 0x7f0bff91c220>: 0, <Resource.Resource object at 0x7f0bff91d420>: 10, <Resource.Resource object at 0x7f0bffa7ead0>: 0, <Resource.Resource object at 0x7f0bffa7f400>: 0}\n",
      "{<Resource.Resource object at 0x7f0bff91c220>: 0, <Resource.Resource object at 0x7f0bff91d420>: 0, <Resource.Resource object at 0x7f0bffa7ead0>: 0, <Resource.Resource object at 0x7f0bffa7f400>: 6}\n",
      "{<Resource.Resource object at 0x7f0bff91c220>: 2, <Resource.Resource object at 0x7f0bff91d420>: 0, <Resource.Resource object at 0x7f0bffa7ead0>: 0, <Resource.Resource object at 0x7f0bffa7f400>: 0}\n",
      "{<Resource.Resource object at 0x7f0bff91c220>: 3, <Resource.Resource object at 0x7f0bff91d420>: 0, <Resource.Resource object at 0x7f0bffa7ead0>: 0, <Resource.Resource object at 0x7f0bffa7f400>: 0}\n",
      "{<Resource.Resource object at 0x7f0bff91c220>: 0, <Resource.Resource object at 0x7f0bff91d420>: 9, <Resource.Resource object at 0x7f0bffa7ead0>: 0, <Resource.Resource object at 0x7f0bffa7f400>: 0}\n",
      "{<Resource.Resource object at 0x7f0bff91c220>: 4, <Resource.Resource object at 0x7f0bff91d420>: 0, <Resource.Resource object at 0x7f0bffa7ead0>: 0, <Resource.Resource object at 0x7f0bffa7f400>: 0}\n",
      "{<Resource.Resource object at 0x7f0bff91c220>: 0, <Resource.Resource object at 0x7f0bff91d420>: 0, <Resource.Resource object at 0x7f0bffa7ead0>: 4, <Resource.Resource object at 0x7f0bffa7f400>: 0}\n",
      "{<Resource.Resource object at 0x7f0bff91c220>: 0, <Resource.Resource object at 0x7f0bff91d420>: 0, <Resource.Resource object at 0x7f0bffa7ead0>: 0, <Resource.Resource object at 0x7f0bffa7f400>: 7}\n",
      "{<Resource.Resource object at 0x7f0bff91c220>: 0, <Resource.Resource object at 0x7f0bff91d420>: 8, <Resource.Resource object at 0x7f0bffa7ead0>: 0, <Resource.Resource object at 0x7f0bffa7f400>: 0}\n",
      "{<Resource.Resource object at 0x7f0bff91c220>: 0, <Resource.Resource object at 0x7f0bff91d420>: 7, <Resource.Resource object at 0x7f0bffa7ead0>: 0, <Resource.Resource object at 0x7f0bffa7f400>: 0}\n",
      "{<Resource.Resource object at 0x7f0bff91c220>: 0, <Resource.Resource object at 0x7f0bff91d420>: 7, <Resource.Resource object at 0x7f0bffa7ead0>: 0, <Resource.Resource object at 0x7f0bffa7f400>: 0}\n",
      "{<Resource.Resource object at 0x7f0bff91c220>: 0, <Resource.Resource object at 0x7f0bff91d420>: 0, <Resource.Resource object at 0x7f0bffa7ead0>: 2, <Resource.Resource object at 0x7f0bffa7f400>: 0}\n",
      "{<Resource.Resource object at 0x7f0bff91c220>: 0, <Resource.Resource object at 0x7f0bff91d420>: 0, <Resource.Resource object at 0x7f0bffa7ead0>: 0, <Resource.Resource object at 0x7f0bffa7f400>: 0}\n"
     ]
    }
   ],
   "source": [
    "#Creating jobs\n",
    "jobs_enumerate = sm_file[3].jobnr\n",
    "jobs_duration = sm_file[3].duration\n",
    "jobs_resources = sm_file[3].resources\n",
    "jobs = [None for _ in jobs_enumerate]\n",
    "\n",
    "\n",
    "for i in jobs_enumerate:\n",
    "    jobs[i - 1] = Task(str(i), jobs_duration[i - 1])\n",
    "\n",
    "for i in range(len(resources)):\n",
    "    for j in range(len(jobs)):\n",
    "        jobs[j].add_renewable_resource(resources[i], jobs_resources[j][i])\n",
    "    \n",
    "\n",
    "    \n",
    "\n"
   ]
  },
  {
   "cell_type": "markdown",
   "metadata": {},
   "source": [
    "\n",
    "Modelagem\n"
   ]
  },
  {
   "cell_type": "code",
   "execution_count": null,
   "metadata": {},
   "outputs": [],
   "source": [
    "#Dados\n",
    "n = 0 #numero de trabalhos\n",
    "m = 0 #número de tipos de recursos\n",
    "\n"
   ]
  },
  {
   "cell_type": "code",
   "execution_count": 4,
   "metadata": {},
   "outputs": [
    {
     "name": "stdout",
     "output_type": "stream",
     "text": [
      "Dummy Source [0, 0]\n",
      "D2 [0, 4]\n",
      "D4 [4, 6]\n",
      "D6 [6, 10]\n",
      "D1 [6, 9]\n",
      "D3 [10, 12]\n",
      "D5 [12, 13]\n",
      "D7 [9, 10]\n",
      "Dummy Sink [13, 13]\n",
      "Schedule 5 Makespan: 13\n"
     ]
    }
   ],
   "source": [
    "from Schedule import Schedule\n",
    "from Task import Task\n",
    "from Resource import Resource\n",
    "\n",
    "\n",
    "def print_time_windows_es_ef(schedule: Schedule):\n",
    "    for task in schedule.tasks:\n",
    "        print(task.name, [task.earliest_start, task.earliest_finish])\n",
    "\n",
    "schedule5 = Schedule()\n",
    "\n",
    "d1 = Task(\"D1\", duration=3)\n",
    "d2 = Task(\"D2\", duration=4)\n",
    "d3 = Task(\"D3\", duration=2)\n",
    "d4 = Task(\"D4\", duration=2)\n",
    "d5 = Task(\"D5\", duration=1)\n",
    "d6 = Task(\"D6\", duration=4)\n",
    "d7 = Task(\"D7\", duration=1)\n",
    "\n",
    "d3.add_predecessors([d1])\n",
    "d4.add_predecessors([d2])\n",
    "d5.add_predecessors([d3])\n",
    "d6.add_predecessors([d4])\n",
    "d7.add_predecessors([d1])\n",
    "\n",
    "r1 = Resource(\"R1\", 4)\n",
    "\n",
    "d1.add_renewable_resource(r1, 2)\n",
    "d2.add_renewable_resource(r1, 3)\n",
    "d3.add_renewable_resource(r1, 4)\n",
    "d4.add_renewable_resource(r1, 4)\n",
    "d5.add_renewable_resource(r1, 3)\n",
    "d6.add_renewable_resource(r1, 2)\n",
    "d7.add_renewable_resource(r1, 2)\n",
    "\n",
    "schedule5.add_renewable_resource(r1)\n",
    "\n",
    "schedule5.add_tasks([d2, d4, d6, d1, d3, d5, d7])\n",
    "\n",
    "makespan = schedule5.makespan()\n",
    "\n",
    "print_time_windows_es_ef(schedule5)\n",
    "print('Schedule 5 Makespan:', makespan)\n",
    "\n",
    "# def print_task_resources(schedule: Schedule):\n",
    "#     for task in schedule.tasks:\n",
    "#         print(task.name, [resource.name for resource in task.renewable_resources], [task.renewable_resources[resource] for resource in task.renewable_resources])\n",
    "\n",
    "# print_task_resources(schedule5)"
   ]
  }
 ],
 "metadata": {
  "kernelspec": {
   "display_name": "Python 3",
   "language": "python",
   "name": "python3"
  },
  "language_info": {
   "codemirror_mode": {
    "name": "ipython",
    "version": 3
   },
   "file_extension": ".py",
   "mimetype": "text/x-python",
   "name": "python",
   "nbconvert_exporter": "python",
   "pygments_lexer": "ipython3",
   "version": "3.11.9"
  }
 },
 "nbformat": 4,
 "nbformat_minor": 2
}
