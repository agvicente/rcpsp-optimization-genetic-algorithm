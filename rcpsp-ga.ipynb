{
 "cells": [
  {
   "cell_type": "code",
   "execution_count": 75,
   "metadata": {},
   "outputs": [
    {
     "name": "stdout",
     "output_type": "stream",
     "text": [
      "0        [2, 3, 4]\n",
      "1      [6, 11, 15]\n",
      "2       [7, 8, 13]\n",
      "3       [5, 9, 10]\n",
      "4             [20]\n",
      "5             [30]\n",
      "6             [27]\n",
      "7     [12, 19, 27]\n",
      "8             [14]\n",
      "9         [16, 25]\n",
      "10        [20, 26]\n",
      "11            [14]\n",
      "12        [17, 18]\n",
      "13            [17]\n",
      "14            [25]\n",
      "15        [21, 22]\n",
      "16            [22]\n",
      "17        [20, 22]\n",
      "18        [24, 29]\n",
      "19        [23, 25]\n",
      "20            [28]\n",
      "21            [23]\n",
      "22            [24]\n",
      "23            [30]\n",
      "24            [30]\n",
      "25            [31]\n",
      "26            [28]\n",
      "27            [31]\n",
      "28            [32]\n",
      "29            [32]\n",
      "30            [32]\n",
      "31              []\n",
      "Name: successors, dtype: object\n"
     ]
    }
   ],
   "source": [
    "#Importing read-sm-files.py\n",
    "import ReadSMFIles\n",
    "from Resource import Resource\n",
    "from Task import Task\n",
    "from Schedule import Schedule\n",
    "import random\n",
    "from typing import List, Tuple\n",
    "\n",
    "#reading j30.sm/j301_1.sm file\n",
    "sm_file = ReadSMFIles.SMFileParser.parse_sm_file(\"j30.sm/j301_1.sm\")\n",
    "\n",
    "print(sm_file[2].successors)\n"
   ]
  },
  {
   "cell_type": "code",
   "execution_count": 72,
   "metadata": {},
   "outputs": [],
   "source": [
    "#Creating resources\n",
    "r1 = int(sm_file[4].R1[0])\n",
    "r2 = int(sm_file[4].R2[0])\n",
    "r3 = int(sm_file[4].R3[0])\n",
    "r4 = int(sm_file[4].R4[0])\n",
    "\n",
    "R1 = Resource('R1', r1)\n",
    "R2 = Resource('R2', r2)\n",
    "R3 = Resource('R3', r3)\n",
    "R4 = Resource('R4', r4)\n",
    "\n",
    "resources = [R1, R2, R3, R4]\n"
   ]
  },
  {
   "cell_type": "code",
   "execution_count": 73,
   "metadata": {},
   "outputs": [
    {
     "name": "stdout",
     "output_type": "stream",
     "text": [
      "[]\n",
      "['1']\n",
      "['1']\n",
      "['1']\n",
      "['4']\n",
      "['2']\n",
      "['3']\n",
      "['3']\n",
      "['4']\n",
      "['4']\n",
      "['2']\n",
      "['8']\n",
      "['3']\n",
      "['9', '12']\n",
      "['2']\n",
      "['10']\n",
      "['13', '14']\n",
      "['13']\n",
      "['8']\n",
      "['5', '11', '18']\n",
      "['16']\n",
      "['16', '17', '18']\n",
      "['20', '22']\n",
      "['19', '23']\n",
      "['10', '15', '20']\n",
      "['11']\n",
      "['7', '8']\n",
      "['21', '27']\n",
      "['19']\n",
      "['6', '24', '25']\n",
      "['26', '28']\n",
      "['29', '30', '31']\n"
     ]
    }
   ],
   "source": [
    "#Creating jobs\n",
    "jobs_enumerate = sm_file[3].jobnr\n",
    "jobs_duration = sm_file[3].duration\n",
    "jobs_resources = sm_file[3].resources\n",
    "jobs_successors = sm_file[2].successors\n",
    "\n",
    "jobs = [None for _ in jobs_enumerate]\n",
    "\n",
    "\n",
    "for i in jobs_enumerate:\n",
    "    jobs[i - 1] = Task(str(i), jobs_duration[i - 1])\n",
    "\n",
    "for i in range(len(resources)):\n",
    "    for j in range(len(jobs)):\n",
    "        jobs[j].add_renewable_resource(resources[i], jobs_resources[j][i])\n",
    "\n",
    "for i in range(len(jobs)):\n",
    "    successors = jobs_successors[i]\n",
    "    for j in successors:\n",
    "        jobs[i].add_sucessor(jobs[j - 1])\n",
    "    \n",
    "for job in jobs:\n",
    "    print([sucessor.name for sucessor in job.predecessors])\n",
    "\n",
    "    \n",
    "\n",
    "    \n",
    "\n"
   ]
  },
  {
   "cell_type": "markdown",
   "metadata": {},
   "source": [
    "\n",
    "Genetic Algorithm\n",
    "\n"
   ]
  },
  {
   "cell_type": "code",
   "execution_count": 90,
   "metadata": {},
   "outputs": [
    {
     "name": "stdout",
     "output_type": "stream",
     "text": [
      "['Dummy Source', '20', '30', '29', '12', '19', '26', '6', '9', '8', '13', '24', '25', '28', '32', '16', '27', '1', '22', '23', '7', '31', '3', '17', '11', '4', '21', '5', '14', '10', '2', '18', '15', 'Dummy Sink']\n",
      "['Dummy Source', '9', '21', '11', '24', '13', '26', '17', '32', '31', '2', '15', '19', '5', '7', '4', '14', '23', '30', '8', '25', '29', '10', '28', '18', '16', '12', '20', '3', '22', '6', '27', '1', 'Dummy Sink']\n",
      "['Dummy Source', '6', '14', '7', '22', '15', '10', '30', '31', '27', '24', '8', '20', '29', '28', '17', '21', '26', '19', '3', '16', '12', '5', '1', '9', '4', '18', '23', '2', '11', '25', '32', '13', 'Dummy Sink']\n",
      "['Dummy Source', '29', '6', '2', '31', '12', '15', '14', '11', '10', '1', '24', '20', '27', '21', '13', '19', '5', '32', '25', '8', '3', '17', '23', '4', '28', '18', '22', '9', '26', '16', '30', '7', 'Dummy Sink']\n",
      "['Dummy Source', '20', '24', '5', '13', '10', '21', '31', '22', '2', '16', '8', '9', '6', '12', '27', '7', '26', '23', '29', '28', '18', '14', '19', '3', '30', '4', '1', '32', '11', '15', '25', '17', 'Dummy Sink']\n",
      "['Dummy Source', '6', '25', '10', '27', '5', '14', '30', '2', '9', '3', '19', '31', '4', '11', '23', '22', '16', '21', '24', '20', '29', '7', '8', '28', '13', '1', '15', '32', '17', '18', '26', '12', 'Dummy Sink']\n",
      "['Dummy Source', '8', '30', '28', '18', '10', '32', '17', '24', '2', '15', '6', '4', '13', '7', '3', '23', '9', '11', '26', '20', '16', '27', '29', '22', '25', '5', '21', '1', '12', '19', '14', '31', 'Dummy Sink']\n",
      "['Dummy Source', '27', '18', '20', '21', '7', '17', '4', '15', '26', '13', '14', '9', '11', '3', '19', '12', '29', '1', '8', '23', '25', '24', '30', '22', '5', '2', '28', '31', '16', '10', '6', '32', 'Dummy Sink']\n",
      "['Dummy Source', '2', '26', '24', '6', '28', '1', '4', '8', '18', '7', '12', '27', '14', '23', '11', '17', '19', '21', '29', '10', '31', '16', '3', '25', '30', '5', '13', '15', '20', '32', '22', '9', 'Dummy Sink']\n",
      "['Dummy Source', '17', '30', '14', '8', '21', '12', '27', '24', '25', '19', '29', '20', '10', '1', '4', '6', '23', '31', '13', '28', '5', '32', '16', '11', '9', '3', '15', '22', '2', '7', '26', '18', 'Dummy Sink']\n"
     ]
    }
   ],
   "source": [
    "#Genetic Algorithm\n",
    "\n",
    "#Creating random population\n",
    "def create_population(population_size, jobs):\n",
    "    population = []\n",
    "    for i in range(population_size):\n",
    "        schedule = Schedule()\n",
    "        copy = jobs.copy()\n",
    "        random.shuffle(copy)\n",
    "        schedule.add_tasks(copy)\n",
    "        population.append(schedule)\n",
    "    \n",
    "    return population\n",
    "\n",
    "\n",
    "population = create_population(10, jobs)\n",
    "\n",
    "for i in population:\n",
    "    print([task.name for task in i.tasks])"
   ]
  },
  {
   "cell_type": "markdown",
   "metadata": {},
   "source": [
    "Crossover"
   ]
  },
  {
   "cell_type": "code",
   "execution_count": 238,
   "metadata": {},
   "outputs": [
    {
     "name": "stdout",
     "output_type": "stream",
     "text": [
      "['Dummy Source', '20', '30', '9', '21', '11', '24', '13', '26', '17', '32', '31', '2', '15', '19', '5', '7', '4', '14', '23', '8', '25', '29', '10', '28', '18', '16', '12', '3', '22', '6', '27', '1', 'Dummy Sink']\n",
      "['Dummy Source', '9', '21', '20', '30', '29', '12', '19', '26', '6', '8', '13', '24', '25', '28', '32', '16', '27', '1', '22', '23', '7', '31', '3', '17', '11', '4', '5', '14', '10', '2', '18', '15', 'Dummy Sink']\n",
      "34\n"
     ]
    }
   ],
   "source": [
    "\n",
    "class OnePointCrossoverOperator:\n",
    "    def __init__(self, crossover_rate: float = 0.8):\n",
    "        self.crossover_rate = crossover_rate\n",
    "\n",
    "    def __call__(\n",
    "            self, parent1: Schedule, parent2: Schedule\n",
    "    ) -> Tuple[Schedule, Schedule]:\n",
    "        if random.random() > self.crossover_rate:\n",
    "            return parent1, parent2\n",
    "\n",
    "        n = len(parent1.tasks)\n",
    "        crossover_point = random.randint(1, n - 3)\n",
    "\n",
    "        child1 = Schedule()\n",
    "        child2 = Schedule()\n",
    "\n",
    "        parent1_tasks = parent1.tasks.copy()[1:-1]\n",
    "        parent2_tasks = parent2.tasks.copy()[1:-1]\n",
    "\n",
    "        child1.add_tasks(parent1_tasks[:crossover_point])\n",
    "        for task in parent2.tasks:\n",
    "            if task not in child1.tasks and task.name != 'Dummy Source' and task.name != 'Dummy Sink':\n",
    "                child1.add_task(task)\n",
    "        \n",
    "        child2.add_tasks(parent2_tasks[:crossover_point])\n",
    "        for task in parent1.tasks:\n",
    "            if task not in child2.tasks and task.name != 'Dummy Source' and task.name != 'Dummy Sink':\n",
    "                child2.add_task(task)\n",
    "\n",
    "        return child1, child2\n",
    "\n",
    "\n",
    "crossover = OnePointCrossoverOperator()\n",
    "\n",
    "child1, child2 = crossover(population[0], population[1])\n",
    "\n",
    "print([task.name for task in child1.tasks])\n",
    "print([task.name for task in child2.tasks])\n",
    "print(child1.tasks.size)\n",
    "\n"
   ]
  },
  {
   "cell_type": "markdown",
   "metadata": {},
   "source": [
    "Parent Selection"
   ]
  },
  {
   "cell_type": "code",
   "execution_count": 88,
   "metadata": {},
   "outputs": [
    {
     "ename": "AttributeError",
     "evalue": "'list' object has no attribute 'makespan'",
     "output_type": "error",
     "traceback": [
      "\u001b[0;31m---------------------------------------------------------------------------\u001b[0m",
      "\u001b[0;31mAttributeError\u001b[0m                            Traceback (most recent call last)",
      "Cell \u001b[0;32mIn[88], line 16\u001b[0m\n\u001b[1;32m     11\u001b[0m         \u001b[38;5;28;01mreturn\u001b[39;00m selected\n\u001b[1;32m     14\u001b[0m selector \u001b[38;5;241m=\u001b[39m TournamentSelector(tournament_size\u001b[38;5;241m=\u001b[39m\u001b[38;5;241m3\u001b[39m)\n\u001b[0;32m---> 16\u001b[0m selected \u001b[38;5;241m=\u001b[39m \u001b[43mselector\u001b[49m\u001b[43m(\u001b[49m\u001b[43mpopulation\u001b[49m\u001b[43m)\u001b[49m\n\u001b[1;32m     18\u001b[0m \u001b[38;5;28mprint\u001b[39m([job\u001b[38;5;241m.\u001b[39mname \u001b[38;5;28;01mfor\u001b[39;00m job \u001b[38;5;129;01min\u001b[39;00m population[\u001b[38;5;241m0\u001b[39m]])\n\u001b[1;32m     20\u001b[0m \u001b[38;5;28;01mfor\u001b[39;00m i \u001b[38;5;129;01min\u001b[39;00m \u001b[38;5;28mrange\u001b[39m(\u001b[38;5;28mlen\u001b[39m(selected)):\n",
      "Cell \u001b[0;32mIn[88], line 9\u001b[0m, in \u001b[0;36mTournamentSelector.__call__\u001b[0;34m(self, population)\u001b[0m\n\u001b[1;32m      7\u001b[0m \u001b[38;5;28;01mfor\u001b[39;00m _ \u001b[38;5;129;01min\u001b[39;00m \u001b[38;5;28mrange\u001b[39m(\u001b[38;5;28mlen\u001b[39m(population)):\n\u001b[1;32m      8\u001b[0m     tournament \u001b[38;5;241m=\u001b[39m random\u001b[38;5;241m.\u001b[39msample(population, \u001b[38;5;28mself\u001b[39m\u001b[38;5;241m.\u001b[39mtournament_size)\n\u001b[0;32m----> 9\u001b[0m     winner \u001b[38;5;241m=\u001b[39m \u001b[38;5;28;43mmin\u001b[39;49m\u001b[43m(\u001b[49m\u001b[43mtournament\u001b[49m\u001b[43m,\u001b[49m\u001b[43m \u001b[49m\u001b[43mkey\u001b[49m\u001b[38;5;241;43m=\u001b[39;49m\u001b[38;5;28;43;01mlambda\u001b[39;49;00m\u001b[43m \u001b[49m\u001b[43mx\u001b[49m\u001b[43m:\u001b[49m\u001b[43m \u001b[49m\u001b[43mx\u001b[49m\u001b[38;5;241;43m.\u001b[39;49m\u001b[43mmakespan\u001b[49m\u001b[43m(\u001b[49m\u001b[43m)\u001b[49m\u001b[43m)\u001b[49m\n\u001b[1;32m     10\u001b[0m     selected\u001b[38;5;241m.\u001b[39mappend(winner)\n\u001b[1;32m     11\u001b[0m \u001b[38;5;28;01mreturn\u001b[39;00m selected\n",
      "Cell \u001b[0;32mIn[88], line 9\u001b[0m, in \u001b[0;36mTournamentSelector.__call__.<locals>.<lambda>\u001b[0;34m(x)\u001b[0m\n\u001b[1;32m      7\u001b[0m \u001b[38;5;28;01mfor\u001b[39;00m _ \u001b[38;5;129;01min\u001b[39;00m \u001b[38;5;28mrange\u001b[39m(\u001b[38;5;28mlen\u001b[39m(population)):\n\u001b[1;32m      8\u001b[0m     tournament \u001b[38;5;241m=\u001b[39m random\u001b[38;5;241m.\u001b[39msample(population, \u001b[38;5;28mself\u001b[39m\u001b[38;5;241m.\u001b[39mtournament_size)\n\u001b[0;32m----> 9\u001b[0m     winner \u001b[38;5;241m=\u001b[39m \u001b[38;5;28mmin\u001b[39m(tournament, key\u001b[38;5;241m=\u001b[39m\u001b[38;5;28;01mlambda\u001b[39;00m x: \u001b[43mx\u001b[49m\u001b[38;5;241;43m.\u001b[39;49m\u001b[43mmakespan\u001b[49m())\n\u001b[1;32m     10\u001b[0m     selected\u001b[38;5;241m.\u001b[39mappend(winner)\n\u001b[1;32m     11\u001b[0m \u001b[38;5;28;01mreturn\u001b[39;00m selected\n",
      "\u001b[0;31mAttributeError\u001b[0m: 'list' object has no attribute 'makespan'"
     ]
    }
   ],
   "source": [
    "class TournamentSelector:\n",
    "    def __init__(self, tournament_size: int = 2):\n",
    "        self.tournament_size = tournament_size\n",
    "\n",
    "    def __call__(self, population: List[List[Task]]) -> List[Task]:\n",
    "        selected = []\n",
    "        for _ in range(len(population)):\n",
    "            tournament = random.sample(population, self.tournament_size)\n",
    "            winner = min(tournament, key=lambda x: x.makespan())\n",
    "            selected.append(winner)\n",
    "        return selected\n",
    "\n",
    "\n",
    "selector = TournamentSelector(tournament_size=3)\n",
    "\n",
    "selected = selector(population)\n",
    "\n",
    "print([job.name for job in population[0]])\n",
    "\n",
    "for i in range(len(selected)):\n",
    "    print([job.name for job in selected[i]])\n",
    "    print(\"\\n\")"
   ]
  }
 ],
 "metadata": {
  "kernelspec": {
   "display_name": "Python 3",
   "language": "python",
   "name": "python3"
  },
  "language_info": {
   "codemirror_mode": {
    "name": "ipython",
    "version": 3
   },
   "file_extension": ".py",
   "mimetype": "text/x-python",
   "name": "python",
   "nbconvert_exporter": "python",
   "pygments_lexer": "ipython3",
   "version": "3.11.9"
  }
 },
 "nbformat": 4,
 "nbformat_minor": 2
}
