{
 "cells": [
  {
   "cell_type": "code",
   "execution_count": 75,
   "metadata": {},
   "outputs": [
    {
     "name": "stdout",
     "output_type": "stream",
     "text": [
      "0        [2, 3, 4]\n",
      "1      [6, 11, 15]\n",
      "2       [7, 8, 13]\n",
      "3       [5, 9, 10]\n",
      "4             [20]\n",
      "5             [30]\n",
      "6             [27]\n",
      "7     [12, 19, 27]\n",
      "8             [14]\n",
      "9         [16, 25]\n",
      "10        [20, 26]\n",
      "11            [14]\n",
      "12        [17, 18]\n",
      "13            [17]\n",
      "14            [25]\n",
      "15        [21, 22]\n",
      "16            [22]\n",
      "17        [20, 22]\n",
      "18        [24, 29]\n",
      "19        [23, 25]\n",
      "20            [28]\n",
      "21            [23]\n",
      "22            [24]\n",
      "23            [30]\n",
      "24            [30]\n",
      "25            [31]\n",
      "26            [28]\n",
      "27            [31]\n",
      "28            [32]\n",
      "29            [32]\n",
      "30            [32]\n",
      "31              []\n",
      "Name: successors, dtype: object\n"
     ]
    }
   ],
   "source": [
    "#Importing read-sm-files.py\n",
    "import ReadSMFIles\n",
    "from Resource import Resource\n",
    "from Task import Task\n",
    "import random\n",
    "from typing import List, Tuple\n",
    "\n",
    "#reading j30.sm/j301_1.sm file\n",
    "sm_file = ReadSMFIles.SMFileParser.parse_sm_file(\"j30.sm/j301_1.sm\")\n",
    "\n",
    "print(sm_file[2].successors)\n"
   ]
  },
  {
   "cell_type": "code",
   "execution_count": 72,
   "metadata": {},
   "outputs": [],
   "source": [
    "#Creating resources\n",
    "r1 = int(sm_file[4].R1[0])\n",
    "r2 = int(sm_file[4].R2[0])\n",
    "r3 = int(sm_file[4].R3[0])\n",
    "r4 = int(sm_file[4].R4[0])\n",
    "\n",
    "R1 = Resource('R1', r1)\n",
    "R2 = Resource('R2', r2)\n",
    "R3 = Resource('R3', r3)\n",
    "R4 = Resource('R4', r4)\n",
    "\n",
    "resources = [R1, R2, R3, R4]\n"
   ]
  },
  {
   "cell_type": "code",
   "execution_count": 73,
   "metadata": {},
   "outputs": [
    {
     "name": "stdout",
     "output_type": "stream",
     "text": [
      "[]\n",
      "['1']\n",
      "['1']\n",
      "['1']\n",
      "['4']\n",
      "['2']\n",
      "['3']\n",
      "['3']\n",
      "['4']\n",
      "['4']\n",
      "['2']\n",
      "['8']\n",
      "['3']\n",
      "['9', '12']\n",
      "['2']\n",
      "['10']\n",
      "['13', '14']\n",
      "['13']\n",
      "['8']\n",
      "['5', '11', '18']\n",
      "['16']\n",
      "['16', '17', '18']\n",
      "['20', '22']\n",
      "['19', '23']\n",
      "['10', '15', '20']\n",
      "['11']\n",
      "['7', '8']\n",
      "['21', '27']\n",
      "['19']\n",
      "['6', '24', '25']\n",
      "['26', '28']\n",
      "['29', '30', '31']\n"
     ]
    }
   ],
   "source": [
    "#Creating jobs\n",
    "jobs_enumerate = sm_file[3].jobnr\n",
    "jobs_duration = sm_file[3].duration\n",
    "jobs_resources = sm_file[3].resources\n",
    "jobs_successors = sm_file[2].successors\n",
    "\n",
    "jobs = [None for _ in jobs_enumerate]\n",
    "\n",
    "\n",
    "for i in jobs_enumerate:\n",
    "    jobs[i - 1] = Task(str(i), jobs_duration[i - 1])\n",
    "\n",
    "for i in range(len(resources)):\n",
    "    for j in range(len(jobs)):\n",
    "        jobs[j].add_renewable_resource(resources[i], jobs_resources[j][i])\n",
    "\n",
    "for i in range(len(jobs)):\n",
    "    successors = jobs_successors[i]\n",
    "    for j in successors:\n",
    "        jobs[i].add_sucessor(jobs[j - 1])\n",
    "    \n",
    "for job in jobs:\n",
    "    print([sucessor.name for sucessor in job.predecessors])\n",
    "\n",
    "    \n",
    "\n",
    "    \n",
    "\n"
   ]
  },
  {
   "cell_type": "markdown",
   "metadata": {},
   "source": [
    "\n",
    "Genetic Algorithm\n",
    "\n"
   ]
  },
  {
   "cell_type": "code",
   "execution_count": 74,
   "metadata": {},
   "outputs": [
    {
     "name": "stdout",
     "output_type": "stream",
     "text": [
      "['18', '26', '22', '20', '1', '11', '19', '30', '32', '14', '31', '12', '29', '21', '25', '17', '15', '13', '23', '24', '16', '3', '4', '27', '5', '6', '7', '28', '9', '8', '2', '10']\n",
      "\n",
      "\n",
      "['31', '9', '28', '22', '30', '27', '6', '13', '2', '7', '19', '21', '17', '11', '5', '3', '20', '8', '12', '18', '29', '26', '10', '4', '16', '23', '14', '24', '32', '15', '1', '25']\n",
      "\n",
      "\n",
      "['28', '12', '10', '26', '30', '1', '13', '24', '25', '11', '3', '20', '19', '16', '2', '21', '27', '18', '15', '23', '8', '17', '6', '9', '31', '29', '22', '4', '32', '7', '14', '5']\n",
      "\n",
      "\n",
      "['26', '11', '25', '13', '6', '23', '8', '19', '7', '20', '10', '15', '17', '29', '9', '2', '27', '3', '22', '30', '18', '5', '4', '32', '14', '12', '31', '24', '16', '28', '21', '1']\n",
      "\n",
      "\n",
      "['32', '20', '3', '11', '6', '15', '5', '1', '10', '23', '7', '14', '12', '27', '19', '25', '28', '18', '24', '22', '8', '16', '21', '13', '29', '17', '9', '4', '2', '30', '31', '26']\n",
      "\n",
      "\n",
      "['19', '10', '11', '29', '32', '17', '9', '1', '21', '30', '20', '7', '23', '31', '16', '13', '5', '22', '26', '6', '8', '24', '2', '27', '25', '12', '18', '28', '15', '4', '3', '14']\n",
      "\n",
      "\n",
      "['31', '25', '10', '7', '27', '1', '16', '29', '8', '32', '22', '14', '24', '12', '13', '2', '17', '4', '9', '23', '28', '20', '11', '19', '6', '5', '26', '21', '18', '30', '15', '3']\n",
      "\n",
      "\n",
      "['32', '19', '30', '1', '15', '14', '4', '31', '26', '12', '3', '6', '10', '7', '25', '22', '2', '21', '11', '13', '9', '17', '27', '24', '8', '29', '18', '16', '5', '23', '20', '28']\n",
      "\n",
      "\n",
      "['10', '26', '23', '28', '7', '2', '19', '30', '5', '4', '16', '32', '1', '15', '21', '6', '22', '24', '13', '14', '29', '17', '8', '3', '9', '31', '25', '12', '20', '27', '11', '18']\n",
      "\n",
      "\n",
      "['10', '1', '5', '16', '13', '21', '17', '2', '18', '8', '29', '15', '20', '14', '11', '32', '27', '25', '28', '7', '12', '30', '9', '3', '6', '4', '24', '31', '26', '19', '23', '22']\n",
      "\n",
      "\n"
     ]
    }
   ],
   "source": [
    "#Genetic Algorithm\n",
    "\n",
    "#Creating random population\n",
    "def create_population(population_size, jobs):\n",
    "    population = []\n",
    "    for i in range(population_size):\n",
    "        population.append(jobs.copy())\n",
    "        random.shuffle(population[i])\n",
    "    return population\n",
    "\n",
    "population = create_population(10, jobs)\n",
    "\n",
    "for i in range(len(population)):\n",
    "    print([job.name for job in population[i]])\n",
    "    print(\"\\n\")"
   ]
  },
  {
   "cell_type": "markdown",
   "metadata": {},
   "source": [
    "Crossover"
   ]
  },
  {
   "cell_type": "code",
   "execution_count": 87,
   "metadata": {},
   "outputs": [
    {
     "name": "stdout",
     "output_type": "stream",
     "text": [
      "['18', '26', '22', '20', '1', '11', '19', '30', '32', '14', '31', '12', '29', '21', '25', '17', '15', '13', '23', '24', '16', '3', '4', '27', '5', '6', '7', '28', '9', '8', '2', '10']\n",
      "\n",
      "\n",
      "['31', '9', '28', '22', '30', '27', '6', '13', '2', '7', '19', '21', '17', '11', '5', '3', '20', '8', '12', '18', '29', '26', '10', '4', '16', '23', '14', '24', '32', '15', '1', '25']\n",
      "\n",
      "\n",
      "['18', '26', '22', '20', '1', '11', '19', '30', '32', '14', '31', '9', '28', '27', '6', '13', '2', '7', '21', '17', '5', '3', '8', '12', '29', '10', '4', '16', '23', '24', '15', '25']\n",
      "\n",
      "\n",
      "['31', '9', '28', '22', '30', '27', '6', '13', '2', '7', '19', '18', '26', '20', '1', '11', '32', '14', '12', '29', '21', '25', '17', '15', '23', '24', '16', '3', '4', '5', '8', '10']\n"
     ]
    }
   ],
   "source": [
    "\n",
    "class OnePointCrossoverOperator:\n",
    "    def __init__(self, crossover_rate: float = 0.8):\n",
    "        self.crossover_rate = crossover_rate\n",
    "\n",
    "    def __call__(\n",
    "            self, parent1: List[Task], parent2: List[Task]\n",
    "    ) -> Tuple[List[Task], List[Task]]:\n",
    "        if random.random() > self.crossover_rate:\n",
    "            return parent1, parent2\n",
    "\n",
    "        crossover_point = random.randint(0, len(parent1) - 1)\n",
    "        child1 = parent1[:crossover_point]\n",
    "        for value in parent2:\n",
    "            if value not in child1:\n",
    "                child1.append(value)\n",
    "        \n",
    "        child2 = parent2[:crossover_point]\n",
    "        for value in parent1:\n",
    "            if value not in child2:\n",
    "                child2.append(value)\n",
    "\n",
    "        return child1, child2\n",
    "\n",
    "\n",
    "crossover = OnePointCrossoverOperator()\n",
    "\n",
    "child1, child2 = crossover(population[0], population[1])\n",
    "\n",
    "print([job.name for job in population[0]])\n",
    "print(\"\\n\")\n",
    "print([job.name for job in population[1]])\n",
    "print(\"\\n\")\n",
    "print([job.name for job in child1])\n",
    "print(\"\\n\")\n",
    "print([job.name for job in child2])\n"
   ]
  }
 ],
 "metadata": {
  "kernelspec": {
   "display_name": "Python 3",
   "language": "python",
   "name": "python3"
  },
  "language_info": {
   "codemirror_mode": {
    "name": "ipython",
    "version": 3
   },
   "file_extension": ".py",
   "mimetype": "text/x-python",
   "name": "python",
   "nbconvert_exporter": "python",
   "pygments_lexer": "ipython3",
   "version": "3.11.9"
  }
 },
 "nbformat": 4,
 "nbformat_minor": 2
}
